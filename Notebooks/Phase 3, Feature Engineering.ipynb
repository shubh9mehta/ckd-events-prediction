{
 "cells": [
  {
   "cell_type": "code",
   "execution_count": 3,
   "id": "f73ec8f9",
   "metadata": {},
   "outputs": [
    {
     "name": "stdout",
     "output_type": "stream",
     "text": [
      "✅ Final Feature Set Preview:\n",
      "   eGFRBaseline  CreatinineBaseline  AgeBaseline  HistoryDiabetes  DMmeds  \\\n",
      "0          93.3                59.0           64                0       0   \n",
      "1         105.8                52.0           52                0       0   \n",
      "2          99.8                57.0           56                0       0   \n",
      "3          90.3                65.0           58                0       0   \n",
      "4          79.7                70.0           63                1       1   \n",
      "\n",
      "   HistoryCHD  ACEIARB  EventCKD35  \n",
      "0           0        0           0  \n",
      "1           0        0           0  \n",
      "2           0        0           0  \n",
      "3           0        0           0  \n",
      "4           0        1           0  \n",
      "\n",
      "✅ Shape of dataset: (491, 8)\n"
     ]
    }
   ],
   "source": [
    "# Phase 3 - Step 1: Feature Selection\n",
    "import pandas as pd\n",
    "\n",
    "# Load the cleaned dataset\n",
    "data = pd.read_csv('/Users/shubhmehta/Desktop/programming/Data Science Projects/Chronic kidney disease EHRs Abu Dhabi/data/ckd_cleaned.csv')\n",
    "\n",
    "# Features selected based on Phase 2 analysis\n",
    "selected_features = [\n",
    "    'eGFRBaseline',\n",
    "    'CreatinineBaseline',\n",
    "    'AgeBaseline',\n",
    "    'HistoryDiabetes',\n",
    "    'DMmeds',\n",
    "    'HistoryCHD',\n",
    "    'ACEIARB'\n",
    "]\n",
    "\n",
    "# (Optional Expansion Features - for experimentation later)\n",
    "optional_features = [\n",
    "    'HistoryHTN',\n",
    "    'HTNmeds',\n",
    "    'DLDmeds',\n",
    "    'CholesterolBaseline',\n",
    "    'sBPBaseline'\n",
    "]\n",
    "\n",
    "# Target variable\n",
    "target = ['EventCKD35']\n",
    "\n",
    "# Create a new DataFrame with selected features + target\n",
    "final_feature_set = data[selected_features + target]\n",
    "\n",
    "# Save this dataset for next steps\n",
    "final_feature_set.to_csv('/Users/shubhmehta/Desktop/programming/Data Science Projects/Chronic kidney disease EHRs Abu Dhabi/data/phase3_features_basic.csv', index=False)\n",
    "\n",
    "# Also, let's check how the new dataset looks\n",
    "print(\"✅ Final Feature Set Preview:\")\n",
    "print(final_feature_set.head())\n",
    "\n",
    "print(\"\\n✅ Shape of dataset:\", final_feature_set.shape)\n"
   ]
  },
  {
   "cell_type": "code",
   "execution_count": 4,
   "id": "bd0f96fd",
   "metadata": {},
   "outputs": [
    {
     "name": "stdout",
     "output_type": "stream",
     "text": [
      "✅ Feature Set with Comorbidity Sum Preview:\n",
      "   HistoryDiabetes  DMmeds  HistoryCHD  ACEIARB  comorbidity_sum\n",
      "0                0       0           0        0                0\n",
      "1                0       0           0        0                0\n",
      "2                0       0           0        0                0\n",
      "3                0       0           0        0                0\n",
      "4                1       1           0        1                3\n",
      "\n",
      "✅ Shape after adding comorbidity_sum: (491, 9)\n"
     ]
    }
   ],
   "source": [
    "# Phase 3 - Step 2: Create Risk Scores\n",
    "import pandas as pd\n",
    "\n",
    "# Load the selected feature dataset\n",
    "feature_data = pd.read_csv('/Users/shubhmehta/Desktop/programming/Data Science Projects/Chronic kidney disease EHRs Abu Dhabi/data/phase3_features_basic.csv')\n",
    "\n",
    "# Create a comorbidity score by summing certain categorical features\n",
    "feature_data['comorbidity_sum'] = (\n",
    "    feature_data['HistoryDiabetes'] +\n",
    "    feature_data['DMmeds'] +\n",
    "    feature_data['HistoryCHD'] +\n",
    "    feature_data['ACEIARB']\n",
    ")\n",
    "\n",
    "# Save this enhanced feature set\n",
    "feature_data.to_csv('/Users/shubhmehta/Desktop/programming/Data Science Projects/Chronic kidney disease EHRs Abu Dhabi/data/phase3_features_with_riskscore.csv', index=False)\n",
    "\n",
    "# Preview\n",
    "print(\"✅ Feature Set with Comorbidity Sum Preview:\")\n",
    "print(feature_data[['HistoryDiabetes', 'DMmeds', 'HistoryCHD', 'ACEIARB', 'comorbidity_sum']].head())\n",
    "\n",
    "print(\"\\n✅ Shape after adding comorbidity_sum:\", feature_data.shape)\n"
   ]
  },
  {
   "cell_type": "code",
   "execution_count": 5,
   "id": "e68ea861",
   "metadata": {},
   "outputs": [
    {
     "name": "stdout",
     "output_type": "stream",
     "text": [
      "✅ Normalized Feature Set Preview (first 5 rows):\n",
      "   eGFRBaseline  CreatinineBaseline  AgeBaseline\n",
      "0      0.182366            0.452991     0.621212\n",
      "1      0.250821            0.393162     0.439394\n",
      "2      0.217963            0.435897     0.500000\n",
      "3      0.165936            0.504274     0.530303\n",
      "4      0.107886            0.547009     0.606061\n",
      "\n",
      "✅ Shape after normalization: (491, 9)\n"
     ]
    }
   ],
   "source": [
    "# Phase 3 - Step 3: Normalizing Continuous Features\n",
    "import pandas as pd\n",
    "from sklearn.preprocessing import MinMaxScaler\n",
    "\n",
    "# Load dataset with risk score\n",
    "feature_data = pd.read_csv('/Users/shubhmehta/Desktop/programming/Data Science Projects/Chronic kidney disease EHRs Abu Dhabi/data/phase3_features_with_riskscore.csv')\n",
    "\n",
    "# Define continuous features to normalize\n",
    "continuous_features = ['eGFRBaseline', 'CreatinineBaseline', 'AgeBaseline']\n",
    "\n",
    "# Initialize scaler\n",
    "scaler = MinMaxScaler()\n",
    "\n",
    "# Fit and transform continuous features\n",
    "feature_data[continuous_features] = scaler.fit_transform(feature_data[continuous_features])\n",
    "\n",
    "# Save normalized dataset\n",
    "feature_data.to_csv('/Users/shubhmehta/Desktop/programming/Data Science Projects/Chronic kidney disease EHRs Abu Dhabi/data/phase3_features_final.csv', index=False)\n",
    "\n",
    "# Preview\n",
    "print(\"✅ Normalized Feature Set Preview (first 5 rows):\")\n",
    "print(feature_data[continuous_features].head())\n",
    "\n",
    "print(\"\\n✅ Shape after normalization:\", feature_data.shape)"
   ]
  },
  {
   "cell_type": "code",
   "execution_count": null,
   "id": "26adec78",
   "metadata": {},
   "outputs": [],
   "source": []
  }
 ],
 "metadata": {
  "kernelspec": {
   "display_name": "Python 3 (ipykernel)",
   "language": "python",
   "name": "python3"
  },
  "language_info": {
   "codemirror_mode": {
    "name": "ipython",
    "version": 3
   },
   "file_extension": ".py",
   "mimetype": "text/x-python",
   "name": "python",
   "nbconvert_exporter": "python",
   "pygments_lexer": "ipython3",
   "version": "3.11.5"
  }
 },
 "nbformat": 4,
 "nbformat_minor": 5
}
