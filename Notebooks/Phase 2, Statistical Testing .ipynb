{
 "cells": [
  {
   "cell_type": "code",
   "execution_count": 16,
   "id": "397a28c0",
   "metadata": {},
   "outputs": [
    {
     "name": "stdout",
     "output_type": "stream",
     "text": [
      "Categorical Features: ['Sex', 'HistorySmoking', 'HistoryCHD', 'HistoryDiabetes', 'DMmeds', 'HTNmeds', 'HistoryObesity', 'HistoryVascular', 'HistoryDLD', 'HistoryHTN', 'DLDmeds', 'ACEIARB']\n",
      "\n",
      "Continuous Features: ['AgeBaseline', 'CholesterolBaseline', 'CreatinineBaseline', 'eGFRBaseline', 'sBPBaseline', 'dBPBaseline', 'BMIBaseline']\n",
      "\n",
      "Missing or Unclassified Features: {'TimeToEventMonths', 'TIME_YEAR'}\n"
     ]
    }
   ],
   "source": [
    "# Phase 2: Step 1 - Feature Type Separation\n",
    "\n",
    "import pandas as pd\n",
    "\n",
    "# Load cleaned dataset\n",
    "data = pd.read_csv('/Users/shubhmehta/Desktop/programming/Data Science Projects/Chronic kidney disease EHRs Abu Dhabi/data/ckd_cleaned.csv')\n",
    "\n",
    "# Manually defining based on domain understanding\n",
    "categorical_features = [\n",
    "    'Sex', 'HistorySmoking', 'HistoryCHD', 'HistoryDiabetes', 'DMmeds', 'HTNmeds',\n",
    "    'HistoryObesity', 'HistoryVascular', 'HistoryDLD', 'HistoryHTN', 'DLDmeds', 'ACEIARB'\n",
    "]\n",
    "\n",
    "\n",
    "continuous_features = [\n",
    "    'AgeBaseline', 'CholesterolBaseline', 'CreatinineBaseline', 'eGFRBaseline', 'sBPBaseline', 'dBPBaseline', 'BMIBaseline'\n",
    "]\n",
    "\n",
    "\n",
    "# Sanity Check: Are all features accounted for?\n",
    "all_features = categorical_features + continuous_features + ['EventCKD35']  # Include target\n",
    "\n",
    "missing_features = set(data.columns) - set(all_features)\n",
    "\n",
    "print(\"Categorical Features:\", categorical_features)\n",
    "print(\"\\nContinuous Features:\", continuous_features)\n",
    "print(\"\\nMissing or Unclassified Features:\", missing_features)"
   ]
  },
  {
   "cell_type": "code",
   "execution_count": 18,
   "id": "46118dec",
   "metadata": {},
   "outputs": [
    {
     "name": "stdout",
     "output_type": "stream",
     "text": [
      "            Feature  Chi2 Statistic       p-value\n",
      "4            DMmeds       44.821205  2.158722e-11\n",
      "3   HistoryDiabetes       39.556722  3.186676e-10\n",
      "2        HistoryCHD       31.286623  2.226082e-08\n",
      "11          ACEIARB       25.046181  5.597351e-07\n",
      "9        HistoryHTN       14.049514  1.780598e-04\n",
      "10          DLDmeds       12.922320  3.246872e-04\n",
      "5           HTNmeds       12.165153  4.869066e-04\n",
      "8        HistoryDLD        9.428392  2.136516e-03\n",
      "0               Sex        3.936969  4.723581e-02\n",
      "1    HistorySmoking        3.810007  5.094722e-02\n",
      "7   HistoryVascular        3.696403  5.452990e-02\n",
      "6    HistoryObesity        0.395553  5.293948e-01\n"
     ]
    }
   ],
   "source": [
    "# Phase 2: Step 2 - Chi-Square Test for Corrected Categorical Features\n",
    "\n",
    "from scipy.stats import chi2_contingency\n",
    "\n",
    "# Save results\n",
    "chi2_results = []\n",
    "\n",
    "for feature in categorical_features:\n",
    "    contingency_table = pd.crosstab(data[feature], data['EventCKD35'])\n",
    "    chi2, p, dof, expected = chi2_contingency(contingency_table)\n",
    "    \n",
    "    chi2_results.append({\n",
    "        'Feature': feature,\n",
    "        'Chi2 Statistic': chi2,\n",
    "        'p-value': p\n",
    "    })\n",
    "\n",
    "# Create a DataFrame\n",
    "chi2_df = pd.DataFrame(chi2_results)\n",
    "\n",
    "# Sort by p-value\n",
    "chi2_df = chi2_df.sort_values('p-value')\n",
    "\n",
    "print(chi2_df)"
   ]
  },
  {
   "cell_type": "code",
   "execution_count": 19,
   "id": "c9b055df",
   "metadata": {},
   "outputs": [
    {
     "name": "stdout",
     "output_type": "stream",
     "text": [
      "           Feature  Cramer's V\n",
      "0           DMmeds    0.302135\n",
      "1  HistoryDiabetes    0.283837\n",
      "2       HistoryCHD    0.252429\n",
      "3          ACEIARB    0.225855\n",
      "4       HistoryHTN    0.169157\n",
      "5          DLDmeds    0.162229\n",
      "6          HTNmeds    0.157405\n",
      "7       HistoryDLD    0.138573\n",
      "8              Sex    0.089545\n"
     ]
    }
   ],
   "source": [
    "# Phase 2: Step 3 - Cramer's V Calculation for Significant Features\n",
    "\n",
    "import numpy as np\n",
    "\n",
    "def cramers_v(x, y):\n",
    "    contingency_table = pd.crosstab(x, y)\n",
    "    chi2, p, dof, expected = chi2_contingency(contingency_table)\n",
    "    n = contingency_table.sum().sum()\n",
    "    return np.sqrt(chi2 / (n * (min(contingency_table.shape) - 1)))\n",
    "\n",
    "# Only for significant features (p < 0.05)\n",
    "significant_features = ['DMmeds', 'HistoryDiabetes', 'HistoryCHD', 'ACEIARB', \n",
    "                         'HistoryHTN', 'DLDmeds', 'HTNmeds', 'HistoryDLD', 'Sex']\n",
    "\n",
    "# Calculate Cramer's V\n",
    "cramers_results = []\n",
    "\n",
    "for feature in significant_features:\n",
    "    v = cramers_v(data[feature], data['EventCKD35'])\n",
    "    cramers_results.append({'Feature': feature, \"Cramer's V\": v})\n",
    "\n",
    "# Create a DataFrame\n",
    "cramers_df = pd.DataFrame(cramers_results)\n",
    "\n",
    "# Sort by Cramer's V\n",
    "cramers_df = cramers_df.sort_values(\"Cramer's V\", ascending=False)\n",
    "\n",
    "print(cramers_df)"
   ]
  },
  {
   "cell_type": "code",
   "execution_count": 20,
   "id": "c9768ef5",
   "metadata": {},
   "outputs": [
    {
     "name": "stdout",
     "output_type": "stream",
     "text": [
      "               Feature  Mann-Whitney U Statistic       p-value\n",
      "3         eGFRBaseline                    3970.5  2.136510e-16\n",
      "2   CreatinineBaseline                   18581.0  1.497031e-10\n",
      "0          AgeBaseline                   17439.0  1.416119e-07\n",
      "1  CholesterolBaseline                    8877.5  9.485016e-04\n",
      "4          sBPBaseline                   15027.5  4.378639e-03\n",
      "5          dBPBaseline                   10575.5  1.083282e-01\n",
      "6          BMIBaseline                   12289.0  9.133898e-01\n"
     ]
    }
   ],
   "source": [
    "# Phase 2: Step 4 - Mann-Whitney U Test for Continuous Features\n",
    "\n",
    "from scipy.stats import mannwhitneyu\n",
    "\n",
    "# Save results\n",
    "mannwhitney_results = []\n",
    "\n",
    "for feature in continuous_features:\n",
    "    group_event = data[data['EventCKD35'] == 1][feature]\n",
    "    group_no_event = data[data['EventCKD35'] == 0][feature]\n",
    "    \n",
    "    stat, p = mannwhitneyu(group_event, group_no_event, alternative='two-sided')\n",
    "    \n",
    "    mannwhitney_results.append({\n",
    "        'Feature': feature,\n",
    "        'Mann-Whitney U Statistic': stat,\n",
    "        'p-value': p\n",
    "    })\n",
    "\n",
    "# Create a DataFrame\n",
    "mannwhitney_df = pd.DataFrame(mannwhitney_results)\n",
    "\n",
    "# Sort by p-value\n",
    "mannwhitney_df = mannwhitney_df.sort_values('p-value')\n",
    "\n",
    "print(mannwhitney_df)"
   ]
  },
  {
   "cell_type": "code",
   "execution_count": 21,
   "id": "b8798a12",
   "metadata": {},
   "outputs": [
    {
     "name": "stdout",
     "output_type": "stream",
     "text": [
      "               Feature  Cohen's d\n",
      "0         eGFRBaseline  -1.207690\n",
      "1   CreatinineBaseline   0.987147\n",
      "2          AgeBaseline   0.757721\n",
      "3  CholesterolBaseline  -0.451293\n",
      "4          sBPBaseline   0.387879\n"
     ]
    }
   ],
   "source": [
    "# Phase 2: Step 5 - Cohen's d Calculation for Significant Continuous Features\n",
    "\n",
    "def cohens_d(x, y):\n",
    "    nx = len(x)\n",
    "    ny = len(y)\n",
    "    pooled_std = np.sqrt(((nx - 1)*np.var(x, ddof=1) + (ny - 1)*np.var(y, ddof=1)) / (nx + ny - 2))\n",
    "    return (np.mean(x) - np.mean(y)) / pooled_std\n",
    "\n",
    "# Only for significant features\n",
    "significant_continuous = ['eGFRBaseline', 'CreatinineBaseline', 'AgeBaseline', 'CholesterolBaseline', 'sBPBaseline']\n",
    "\n",
    "# Calculate Cohen's d\n",
    "cohensd_results = []\n",
    "\n",
    "for feature in significant_continuous:\n",
    "    group_event = data[data['EventCKD35'] == 1][feature]\n",
    "    group_no_event = data[data['EventCKD35'] == 0][feature]\n",
    "    \n",
    "    d = cohens_d(group_event, group_no_event)\n",
    "    cohensd_results.append({'Feature': feature, \"Cohen's d\": d})\n",
    "\n",
    "# Create a DataFrame\n",
    "cohensd_df = pd.DataFrame(cohensd_results)\n",
    "\n",
    "# Sort by absolute value of Cohen's d\n",
    "cohensd_df = cohensd_df.reindex(cohensd_df[\"Cohen's d\"].abs().sort_values(ascending=False).index)\n",
    "\n",
    "print(cohensd_df)"
   ]
  },
  {
   "cell_type": "code",
   "execution_count": null,
   "id": "5729cb05",
   "metadata": {},
   "outputs": [],
   "source": []
  }
 ],
 "metadata": {
  "kernelspec": {
   "display_name": "Python 3 (ipykernel)",
   "language": "python",
   "name": "python3"
  },
  "language_info": {
   "codemirror_mode": {
    "name": "ipython",
    "version": 3
   },
   "file_extension": ".py",
   "mimetype": "text/x-python",
   "name": "python",
   "nbconvert_exporter": "python",
   "pygments_lexer": "ipython3",
   "version": "3.11.5"
  }
 },
 "nbformat": 4,
 "nbformat_minor": 5
}
