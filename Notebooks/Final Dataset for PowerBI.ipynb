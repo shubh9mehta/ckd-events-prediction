{
 "cells": [
  {
   "cell_type": "code",
   "execution_count": 2,
   "id": "e8f6ab67",
   "metadata": {},
   "outputs": [
    {
     "name": "stdout",
     "output_type": "stream",
     "text": [
      "✅ Loaded phase3_features_with_riskscore.csv successfully!\n",
      "Shape of dataset: (491, 9)\n",
      "First few rows:\n",
      "    eGFRBaseline  CreatinineBaseline  AgeBaseline  HistoryDiabetes  DMmeds  \\\n",
      "0          93.3                59.0           64                0       0   \n",
      "1         105.8                52.0           52                0       0   \n",
      "2          99.8                57.0           56                0       0   \n",
      "3          90.3                65.0           58                0       0   \n",
      "4          79.7                70.0           63                1       1   \n",
      "\n",
      "   HistoryCHD  ACEIARB  EventCKD35  comorbidity_sum  \n",
      "0           0        0           0                0  \n",
      "1           0        0           0                0  \n",
      "2           0        0           0                0  \n",
      "3           0        0           0                0  \n",
      "4           0        1           0                3  \n",
      "✅ Voting Classifier model loaded successfully!\n",
      "✅ Predictions added successfully!\n",
      "   Risk_Probability  Risk_Label\n",
      "0          0.521744           1\n",
      "1          0.521744           1\n",
      "2          0.521744           1\n",
      "3          0.521744           1\n",
      "4          0.527530           1\n",
      "🎯 Final dataset 'final_dataset_for_powerbi.csv' saved successfully!\n"
     ]
    }
   ],
   "source": [
    "# ---------------------------------------------\n",
    "# Step 1: Import required libraries\n",
    "# ---------------------------------------------\n",
    "import pandas as pd\n",
    "import pickle\n",
    "\n",
    "# ---------------------------------------------\n",
    "# Step 2: Load the processed dataset\n",
    "# ---------------------------------------------\n",
    "# This is the clean file with engineered features like comorbidity_sum\n",
    "data = pd.read_csv('data/processed/phase3_features_with_riskscore.csv')\n",
    "\n",
    "print(\"✅ Loaded phase3_features_with_riskscore.csv successfully!\")\n",
    "print(\"Shape of dataset:\", data.shape)\n",
    "print(\"First few rows:\\n\", data.head())\n",
    "\n",
    "# ---------------------------------------------\n",
    "# Step 3: Load the trained Voting Classifier model\n",
    "# ---------------------------------------------\n",
    "with open('models/voting_classifier_model.pkl', 'rb') as file:\n",
    "    voting_model = pickle.load(file)\n",
    "\n",
    "print(\"✅ Voting Classifier model loaded successfully!\")\n",
    "\n",
    "# ---------------------------------------------\n",
    "# Step 4: Predict Risk Labels and Risk Probabilities\n",
    "# ---------------------------------------------\n",
    "data_for_prediction = data.drop(columns=['EventCKD35'])\n",
    "\n",
    "risk_probabilities = voting_model.predict_proba(data_for_prediction)[:, 1]\n",
    "risk_labels = voting_model.predict(data_for_prediction)\n",
    "\n",
    "# Step 5: Add predictions to the dataset\n",
    "data['Risk_Probability'] = risk_probabilities\n",
    "data['Risk_Label'] = risk_labels\n",
    "\n",
    "print(\"✅ Predictions added successfully!\")\n",
    "print(data[['Risk_Probability', 'Risk_Label']].head())\n",
    "\n",
    "# Step 6: Save\n",
    "data.to_csv('data/processed/final_dataset_for_powerbi.csv', index=False)\n",
    "print(\"🎯 Final dataset 'final_dataset_for_powerbi.csv' saved successfully!\")"
   ]
  },
  {
   "cell_type": "code",
   "execution_count": null,
   "id": "db3323ed",
   "metadata": {},
   "outputs": [],
   "source": []
  }
 ],
 "metadata": {
  "kernelspec": {
   "display_name": "Python 3 (ipykernel)",
   "language": "python",
   "name": "python3"
  },
  "language_info": {
   "codemirror_mode": {
    "name": "ipython",
    "version": 3
   },
   "file_extension": ".py",
   "mimetype": "text/x-python",
   "name": "python",
   "nbconvert_exporter": "python",
   "pygments_lexer": "ipython3",
   "version": "3.11.5"
  }
 },
 "nbformat": 4,
 "nbformat_minor": 5
}
